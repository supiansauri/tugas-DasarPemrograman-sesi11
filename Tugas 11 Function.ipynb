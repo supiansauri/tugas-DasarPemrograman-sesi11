{
 "cells": [
  {
   "cell_type": "markdown",
   "metadata": {},
   "source": [
    "<h2>Pengertian</h2>\n",
    "<ol>\n",
    "    <li>Fungsi pada python adalah kumpulan perintah atau baris kode yang dikelompokkan menjadi satu kesatuan untuk kemudian bisa dipanggil atau digunakan berkali-kali.</li>\n",
    "    <li>Sebuah fungsi dapat menerima parameter, dapat mengembalikan suatu nilai, dan dapat dipanggil berkali-kali secara independen.</li>\n",
    "</ol>\n",
    "<hr>\n",
    "<h2>Keuntungan</h2>\n",
    "<ol>\n",
    "    <li>Membagi kode program menjadi bagian-bagian kecil dengan tugasnya masing-masing.</li>\n",
    "    <li>Membuat kode program menjadi lebih “reusable” dan lebih terstruktur.</li>\n",
    "</ol>\n",
    "<hr>\n",
    "<h2>Sintaks</h2>\n",
    "\n",
    "```python\n",
    "def function_name():\n",
    "    Logic Program\n",
    "```\n",
    "Cara memanggil fungsi dengan menuliskan function_name diikuti kurung buka tutup () beserta parameter jika ada\n",
    "\n",
    "```python\n",
    "    function_name()\n",
    "```\n",
    "<hr>\n",
    "Buatlah fungsi dengan nama \"helloPython\" yang berfungsi untuk mencetak \"Welcome in Python Language\" "
   ]
  },
  {
   "cell_type": "code",
   "execution_count": 5,
   "metadata": {},
   "outputs": [
    {
     "name": "stdout",
     "output_type": "stream",
     "text": [
      "Welcome in Python Language\n"
     ]
    }
   ],
   "source": [
    "def helloPython():\n",
    "    print(\"Welcome in Python Language\")\n",
    "    \n",
    "helloPython()"
   ]
  },
  {
   "cell_type": "markdown",
   "metadata": {},
   "source": [
    "<h1>Fungsi dengan parameter</h1>\n",
    "Sebuah fungsi dapat menerima parameter ataupun argumen yang merupakan suatu nilai/variabel yang dilemparkan ke dalam fungsi untuk diproses lebih lanjut.\n",
    "\n",
    "<h2>Sintaks</h2>\n",
    "\n",
    "```python\n",
    "def function_name(param):\n",
    "    Logic Program\n",
    "```\n",
    "Cara memanggil fungsi dengan menuliskan function_name diikuti kurung buka tutup () beserta parameter\n",
    "\n",
    "```python\n",
    "    function_name(param)\n",
    "```\n",
    "<hr>"
   ]
  },
  {
   "cell_type": "markdown",
   "metadata": {},
   "source": [
    "Buatlah fungsi dengan nama \"fullName\" yang mempunyai parameter \"firstname\" dan \"lastname\" digunakan untuk mencetak \"firstname\" dan \"lastname\""
   ]
  },
  {
   "cell_type": "code",
   "execution_count": 10,
   "metadata": {},
   "outputs": [
    {
     "name": "stdout",
     "output_type": "stream",
     "text": [
      "Supian Sauri\n"
     ]
    }
   ],
   "source": [
    "def fullName(firstname, lastname):\n",
    "    print(f\"{firstname} {lastname}\")\n",
    "    \n",
    "fullName(\"Supian\", \"Sauri\")"
   ]
  },
  {
   "cell_type": "markdown",
   "metadata": {},
   "source": [
    "Parameter fungsi diperbolehkan menggunakan lebih dari 1, dimana paramater tersebut ada yang wajib harus diisi dan ada yang tidak harus diisi\n",
    "\n",
    "```python\n",
    "def function_name(param_1, param_2, param_3,....):\n",
    "    Logic Program\n",
    "```\n",
    "\n",
    "Cara memanggil fungsi dengan menuliskan function_name diikuti kurung buka tutup () beserta parameter\n",
    "\n",
    "```python\n",
    "    function_name(param_1, param_2, param_3)\n",
    "```\n",
    "<hr>\n",
    "Buatlah fungsi dengan nama maxValue yang mempunyai parameter \"val_1\",\"val_2\" dan \"val_3\" yang bertujuan untuk mencari nilai terbesar dari 3 nilai tersebut"
   ]
  },
  {
   "cell_type": "code",
   "execution_count": 19,
   "metadata": {},
   "outputs": [
    {
     "data": {
      "text/plain": [
       "100"
      ]
     },
     "execution_count": 19,
     "metadata": {},
     "output_type": "execute_result"
    }
   ],
   "source": [
    "def maxValue(val_1, val_2, val_3):\n",
    "    max_value = val_1\n",
    "    \n",
    "    if val_2 > max_value:\n",
    "        max_value = val_2\n",
    "    if val_3 > max_value:\n",
    "        max_value = val_3\n",
    "    return max_value\n",
    "\n",
    "maxValue(100, 10, 5)"
   ]
  },
  {
   "cell_type": "markdown",
   "metadata": {},
   "source": [
    "Parameter opsional digunakan pada fungsi dengan cara memberikan nilai default, artinya nilai parameter sudah diberikan terlebih dahulu tanpa dipanggil\n",
    "\n",
    "```python\n",
    "def function_name(param_1, param_2, param_3 = 'Nilai'):\n",
    "    Logic Program\n",
    "```"
   ]
  },
  {
   "cell_type": "markdown",
   "metadata": {},
   "source": [
    "Buatlah fungsi \"countCircleArea\" dengan 2 parameter yaitu \"phi\" dan \"diameter\" dimana parameter phi mempunyai nilai default 3.14"
   ]
  },
  {
   "cell_type": "code",
   "execution_count": 20,
   "metadata": {},
   "outputs": [
    {
     "data": {
      "text/plain": [
       "153.86"
      ]
     },
     "execution_count": 20,
     "metadata": {},
     "output_type": "execute_result"
    }
   ],
   "source": [
    "def countCircleArea(diameter, phi = 3.14):\n",
    "    r = diameter / 2\n",
    "    return phi * r * r\n",
    "\n",
    "countCircleArea(14)"
   ]
  },
  {
   "cell_type": "markdown",
   "metadata": {},
   "source": [
    "Fungsi dengan 2 Parameter opsional juga dapat dilakukan pada Python. \n",
    "\n",
    "```python\n",
    "def info(suhu, daerah='Sukabumi', satuan = 'Celcius'):\n",
    "    print(f\"Suhu sekarang di {daerah} : {suhu} {satuan} \")\n",
    "```\n",
    "Adapun Cara memanggilnya\n",
    "\n",
    "```python\n",
    "    info(30)\n",
    "```"
   ]
  },
  {
   "cell_type": "code",
   "execution_count": 21,
   "metadata": {},
   "outputs": [
    {
     "name": "stdout",
     "output_type": "stream",
     "text": [
      "Suhu sekarang di Sukabumi : 30 Celcius \n"
     ]
    }
   ],
   "source": [
    "#Cobalah fungsi tersebut pada area kode disini\n",
    "def info(suhu, daerah='Sukabumi', satuan = 'Celcius'):\n",
    "    print(f\"Suhu sekarang di {daerah} : {suhu} {satuan} \")\n",
    "    \n",
    "info(30)"
   ]
  },
  {
   "cell_type": "markdown",
   "metadata": {},
   "source": [
    "<h1>Fungsi dengan Return Value</h1>\n",
    "\n",
    "Yaitu fungsi dimana akhir dari programnya adalah nilai kembalian atau nilai balik. Artinya nilai dalam fungsi dapat ditampung lagi ke variabel lain untuk digunakan operasi lebih lanjut.\n",
    "\n",
    "Buatlah fungsi dengan return value yang digunakan untuk mengecek sebuah bilangan termasuk bilangan negatif, bilangan neteral(0) dan bilangan positif"
   ]
  },
  {
   "cell_type": "code",
   "execution_count": 22,
   "metadata": {},
   "outputs": [
    {
     "name": "stdout",
     "output_type": "stream",
     "text": [
      "Netral\n",
      "Positif\n",
      "Negatif\n"
     ]
    }
   ],
   "source": [
    "def bilBul(val):\n",
    "    if val == 0:\n",
    "        return \"Netral\"\n",
    "    elif val > 0:\n",
    "        return \"Positif\"\n",
    "    else:\n",
    "        return \"Negatif\"\n",
    "    \n",
    "print(bilBul(0))\n",
    "print(bilBul(1))\n",
    "print(bilBul(-1))\n"
   ]
  },
  {
   "cell_type": "markdown",
   "metadata": {},
   "source": [
    "<h3>Soal Latihan</h3>\n",
    "<ol>\n",
    "    <li>Buatlah fungsi untuk menjumlahkan total nilai dari list</li>\n",
    "    <li>Buatlah fungsi untuk mencari nilai terbesar dari sekumpulan list </li>\n",
    "    <li>Buatlah fungsi untuk menjumlahkan 2 buah list </li>\n",
    "</ol>\n"
   ]
  },
  {
   "cell_type": "code",
   "execution_count": 6,
   "metadata": {},
   "outputs": [
    {
     "data": {
      "text/plain": [
       "150"
      ]
     },
     "execution_count": 6,
     "metadata": {},
     "output_type": "execute_result"
    }
   ],
   "source": [
    "#Soal 1\n",
    "\n",
    "nilai=[10, 20, 30, 40, 50]\n",
    "def total(nums):\n",
    "    total= 0\n",
    "    for n in nums:\n",
    "        total +=n\n",
    "        \n",
    "    return total\n",
    "total(nilai)"
   ]
  },
  {
   "cell_type": "code",
   "execution_count": 26,
   "metadata": {},
   "outputs": [
    {
     "name": "stdout",
     "output_type": "stream",
     "text": [
      "100\n"
     ]
    }
   ],
   "source": [
    "#Soal 2\n",
    "\n",
    "nilai= [10, 20, 100, 30, 40, 50]\n",
    "\n",
    "def nilaiMax(nomer):\n",
    "    terbesar = 0\n",
    "    for i in nomer:\n",
    "        if i > terbesar:\n",
    "            terbesar = i\n",
    "    return terbesar\n",
    "\n",
    "print(nilaiMax(nilai))"
   ]
  },
  {
   "cell_type": "code",
   "execution_count": 4,
   "metadata": {},
   "outputs": [
    {
     "name": "stdout",
     "output_type": "stream",
     "text": [
      "adi\n",
      "100\n"
     ]
    }
   ],
   "source": [
    "#Soal 3\n",
    "nilaiOrang = [\n",
    "    {\n",
    "        \"nama\" : \"adi\",\n",
    "        \"nilai\" : 100\n",
    "    },\n",
    "     {\n",
    "        \"nama\" : \"Rudi\",\n",
    "        \"nilai\" : 80\n",
    "    },\n",
    "     {\n",
    "        \"nama\" : \"Ferdi\",\n",
    "        \"nilai\" : 75\n",
    "    },\n",
    "     {\n",
    "        \"nama\" : \"Sambo\",\n",
    "        \"nilai\" : 40\n",
    "    }\n",
    "]\n",
    "\n",
    "def maxValue(nilaiOrang):\n",
    "    nilaiTerbesar = 0\n",
    "    orang_terbesar= ''\n",
    "    for orang in nilaiOrang:\n",
    "        nilai = orang.get(\"nilai\")\n",
    "        nama = orang.get(\"nama\")\n",
    "        \n",
    "        if nilai > nilaiTerbesar :\n",
    "            orang_terbesar = nama\n",
    "            nilaiTerbesar =  nilai\n",
    "            \n",
    "        return {\n",
    "            \"nama\": orang_terbesar,\n",
    "            \"nilai\": nilaiTerbesar\n",
    "        }\n",
    "    \n",
    "orang = maxValue(nilaiOrang)\n",
    "    \n",
    "print(orang.get(\"nama\"))\n",
    "print(orang.get(\"nilai\"))"
   ]
  }
 ],
 "metadata": {
  "kernelspec": {
   "display_name": "Python 3 (ipykernel)",
   "language": "python",
   "name": "python3"
  },
  "language_info": {
   "codemirror_mode": {
    "name": "ipython",
    "version": 3
   },
   "file_extension": ".py",
   "mimetype": "text/x-python",
   "name": "python",
   "nbconvert_exporter": "python",
   "pygments_lexer": "ipython3",
   "version": "3.9.12"
  }
 },
 "nbformat": 4,
 "nbformat_minor": 4
}
